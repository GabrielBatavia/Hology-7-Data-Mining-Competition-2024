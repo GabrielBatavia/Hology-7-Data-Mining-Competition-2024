{
 "cells": [
  {
   "cell_type": "code",
   "id": "initial_id",
   "metadata": {
    "collapsed": true,
    "ExecuteTime": {
     "end_time": "2024-10-23T13:01:00.879856Z",
     "start_time": "2024-10-23T13:01:00.277437Z"
    }
   },
   "source": [
    "import pandas as pd\n",
    "\n",
    "# Path ke train.csv\n",
    "csv_file = '../Penyisihan_Hology_DataMining/train.csv'  # Update dengan path ke file train.csv Anda\n",
    "\n",
    "# Load train.csv\n",
    "train_df = pd.read_csv(csv_file)\n",
    "\n",
    "# Hitung distribusi untuk label 'jenis' dan 'warna'\n",
    "jenis_distribution = train_df['jenis'].value_counts()\n",
    "warna_distribution = train_df['warna'].value_counts()\n",
    "\n",
    "# Tampilkan hasil distribusi\n",
    "print(\"Distribusi label 'jenis':\")\n",
    "print(jenis_distribution)\n",
    "\n",
    "print(\"\\nDistribusi label 'warna':\")\n",
    "print(warna_distribution)\n",
    "\n",
    "# Jika Anda ingin menyimpan hasil distribusi ke dalam file CSV:\n",
    "jenis_distribution.to_csv('jenis_distribution.csv', header=True)\n",
    "warna_distribution.to_csv('warna_distribution.csv', header=True)\n"
   ],
   "outputs": [
    {
     "name": "stdout",
     "output_type": "stream",
     "text": [
      "Distribusi label 'jenis':\n",
      "jenis\n",
      "0    476\n",
      "1    301\n",
      "Name: count, dtype: int64\n",
      "\n",
      "Distribusi label 'warna':\n",
      "warna\n",
      "3    234\n",
      "2    162\n",
      "4    140\n",
      "1    125\n",
      "0    116\n",
      "Name: count, dtype: int64\n"
     ]
    }
   ],
   "execution_count": 1
  },
  {
   "metadata": {},
   "cell_type": "code",
   "outputs": [],
   "execution_count": null,
   "source": "",
   "id": "5f2ef5aa5e0effee"
  }
 ],
 "metadata": {
  "kernelspec": {
   "display_name": "Python 3",
   "language": "python",
   "name": "python3"
  },
  "language_info": {
   "codemirror_mode": {
    "name": "ipython",
    "version": 2
   },
   "file_extension": ".py",
   "mimetype": "text/x-python",
   "name": "python",
   "nbconvert_exporter": "python",
   "pygments_lexer": "ipython2",
   "version": "2.7.6"
  }
 },
 "nbformat": 4,
 "nbformat_minor": 5
}
