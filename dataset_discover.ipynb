{
 "cells": [
  {
   "cell_type": "code",
   "id": "initial_id",
   "metadata": {
    "collapsed": true,
    "ExecuteTime": {
     "end_time": "2024-10-21T05:18:33.240461Z",
     "start_time": "2024-10-21T05:18:18.506832Z"
    }
   },
   "source": [
    "import gdown\n",
    "import zipfile\n",
    "import os\n",
    "\n",
    "url = \"https://drive.google.com/uc?id=1TbHce2SU-W_Fr2hMjN9E_WhC_1R9M182\"\n",
    "output = 'Penyisiha_Hology_Data_Mining.zip'\n",
    "\n",
    "# Download file\n",
    "gdown.download(url, output, quiet=False)\n",
    "\n",
    "# Ekstraksi file zip\n",
    "with zipfile.ZipFile(output, 'r') as zip_ref:\n",
    "    zip_ref.extractall()\n",
    "\n",
    "# Hapus file zip setelah ekstraksi\n",
    "os.remove(output)\n"
   ],
   "outputs": [
    {
     "name": "stderr",
     "output_type": "stream",
     "text": [
      "Downloading...\n",
      "From: https://drive.google.com/uc?id=1TbHce2SU-W_Fr2hMjN9E_WhC_1R9M182\n",
      "To: C:\\Users\\gabri\\Documents\\github_project\\Hology_dataMining2024\\Penyisiha_Hology_Data_Mining.zip\n",
      "100%|██████████| 10.2M/10.2M [00:01<00:00, 9.25MB/s]\n"
     ]
    }
   ],
   "execution_count": 4
  },
  {
   "metadata": {},
   "cell_type": "code",
   "outputs": [],
   "execution_count": null,
   "source": "",
   "id": "4d25feac5d19e06d"
  }
 ],
 "metadata": {
  "kernelspec": {
   "display_name": "Python 3",
   "language": "python",
   "name": "python3"
  },
  "language_info": {
   "codemirror_mode": {
    "name": "ipython",
    "version": 2
   },
   "file_extension": ".py",
   "mimetype": "text/x-python",
   "name": "python",
   "nbconvert_exporter": "python",
   "pygments_lexer": "ipython2",
   "version": "2.7.6"
  }
 },
 "nbformat": 4,
 "nbformat_minor": 5
}
